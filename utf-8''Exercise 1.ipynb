{
 "cells": [
  {
   "cell_type": "markdown",
   "metadata": {
    "colab_type": "text",
    "id": "mw2VBrBcgvGa"
   },
   "source": [
    "In this exercise you'll try to build a neural network that predicts the price of a house according to a simple formula.\n",
    "\n",
    "So, imagine if house pricing was as easy as a house costs 50k + 50k per bedroom, so that a 1 bedroom house costs 100k, a 2 bedroom house costs 150k etc.\n",
    "\n",
    "How would you create a neural network that learns this relationship so that it would predict a 7 bedroom house as costing close to 400k etc.\n",
    "\n",
    "Hint: Your network might work better if you scale the house price down. You don't have to give the answer 400...it might be better to create something that predicts the number 4, and then your answer is in the 'hundreds of thousands' etc."
   ]
  },
  {
   "cell_type": "code",
   "execution_count": 1,
   "metadata": {},
   "outputs": [],
   "source": [
    "import tensorflow as tf\n",
    "import numpy as np\n",
    "from tensorflow import keras"
   ]
  },
  {
   "cell_type": "code",
   "execution_count": 2,
   "metadata": {
    "colab": {},
    "colab_type": "code",
    "id": "PUNO2E6SeURH"
   },
   "outputs": [],
   "source": [
    "# GRADED FUNCTION: house_model\n",
    "def house_model(y_new):\n",
    "    xs = np.arange(1, 11, dtype = float) # set up range from 1 to 10 with increments of 1 - the number of bedrooms\n",
    "    start=1\n",
    "    step=0.5\n",
    "    num=10\n",
    "    ys = np.arange(0,num)*step+start\n",
    "    model = tf.keras.Sequential([keras.layers.Dense(units=1, input_shape=[1])])\n",
    "    model.compile(optimizer='sgd', loss='mean_squared_error')\n",
    "    model.fit(xs, ys, epochs=50) # Simple, taken from reading materials\n",
    "    return model.predict(y_new)[0]"
   ]
  },
  {
   "cell_type": "code",
   "execution_count": 3,
   "metadata": {},
   "outputs": [
    {
     "name": "stderr",
     "output_type": "stream",
     "text": [
      "WARNING: Logging before flag parsing goes to stderr.\n",
      "W1001 05:32:58.901190 140325031266112 deprecation.py:506] From /usr/local/lib/python3.6/dist-packages/tensorflow/python/ops/init_ops.py:1251: calling VarianceScaling.__init__ (from tensorflow.python.ops.init_ops) with dtype is deprecated and will be removed in a future version.\n",
      "Instructions for updating:\n",
      "Call initializer instance with the dtype argument instead of passing it to the constructor\n"
     ]
    },
    {
     "name": "stdout",
     "output_type": "stream",
     "text": [
      "Epoch 1/50\n",
      "10/10 [==============================] - 2s 228ms/sample - loss: 18.7712\n",
      "Epoch 2/50\n",
      "10/10 [==============================] - 0s 191us/sample - loss: 0.8940\n",
      "Epoch 3/50\n",
      "10/10 [==============================] - 0s 165us/sample - loss: 0.0735\n",
      "Epoch 4/50\n",
      "10/10 [==============================] - 0s 168us/sample - loss: 0.0355\n",
      "Epoch 5/50\n",
      "10/10 [==============================] - 0s 151us/sample - loss: 0.0335\n",
      "Epoch 6/50\n",
      "10/10 [==============================] - 0s 151us/sample - loss: 0.0332\n",
      "Epoch 7/50\n",
      "10/10 [==============================] - 0s 161us/sample - loss: 0.0329\n",
      "Epoch 8/50\n",
      "10/10 [==============================] - 0s 144us/sample - loss: 0.0326\n",
      "Epoch 9/50\n",
      "10/10 [==============================] - 0s 7ms/sample - loss: 0.0323\n",
      "Epoch 10/50\n",
      "10/10 [==============================] - 0s 181us/sample - loss: 0.0321\n",
      "Epoch 11/50\n",
      "10/10 [==============================] - 0s 163us/sample - loss: 0.0318\n",
      "Epoch 12/50\n",
      "10/10 [==============================] - 0s 158us/sample - loss: 0.0315\n",
      "Epoch 13/50\n",
      "10/10 [==============================] - 0s 153us/sample - loss: 0.0313\n",
      "Epoch 14/50\n",
      "10/10 [==============================] - 0s 165us/sample - loss: 0.0310\n",
      "Epoch 15/50\n",
      "10/10 [==============================] - 0s 165us/sample - loss: 0.0308\n",
      "Epoch 16/50\n",
      "10/10 [==============================] - 0s 156us/sample - loss: 0.0305\n",
      "Epoch 17/50\n",
      "10/10 [==============================] - 0s 152us/sample - loss: 0.0302\n",
      "Epoch 18/50\n",
      "10/10 [==============================] - 0s 126us/sample - loss: 0.0300\n",
      "Epoch 19/50\n",
      "10/10 [==============================] - 0s 107us/sample - loss: 0.0297\n",
      "Epoch 20/50\n",
      "10/10 [==============================] - 0s 165us/sample - loss: 0.0295\n",
      "Epoch 21/50\n",
      "10/10 [==============================] - 0s 186us/sample - loss: 0.0292\n",
      "Epoch 22/50\n",
      "10/10 [==============================] - 0s 160us/sample - loss: 0.0290\n",
      "Epoch 23/50\n",
      "10/10 [==============================] - 0s 7ms/sample - loss: 0.0288\n",
      "Epoch 24/50\n",
      "10/10 [==============================] - 0s 192us/sample - loss: 0.0285\n",
      "Epoch 25/50\n",
      "10/10 [==============================] - 0s 174us/sample - loss: 0.0283\n",
      "Epoch 26/50\n",
      "10/10 [==============================] - 0s 130us/sample - loss: 0.0280\n",
      "Epoch 27/50\n",
      "10/10 [==============================] - 0s 145us/sample - loss: 0.0278\n",
      "Epoch 28/50\n",
      "10/10 [==============================] - 0s 137us/sample - loss: 0.0276\n",
      "Epoch 29/50\n",
      "10/10 [==============================] - 0s 144us/sample - loss: 0.0273\n",
      "Epoch 30/50\n",
      "10/10 [==============================] - 0s 139us/sample - loss: 0.0271\n",
      "Epoch 31/50\n",
      "10/10 [==============================] - 0s 158us/sample - loss: 0.0269\n",
      "Epoch 32/50\n",
      "10/10 [==============================] - 0s 186us/sample - loss: 0.0267\n",
      "Epoch 33/50\n",
      "10/10 [==============================] - 0s 156us/sample - loss: 0.0264\n",
      "Epoch 34/50\n",
      "10/10 [==============================] - 0s 202us/sample - loss: 0.0262\n",
      "Epoch 35/50\n",
      "10/10 [==============================] - 0s 190us/sample - loss: 0.0260\n",
      "Epoch 36/50\n",
      "10/10 [==============================] - 0s 178us/sample - loss: 0.0258\n",
      "Epoch 37/50\n",
      "10/10 [==============================] - 0s 153us/sample - loss: 0.0256\n",
      "Epoch 38/50\n",
      "10/10 [==============================] - 0s 166us/sample - loss: 0.0253\n",
      "Epoch 39/50\n",
      "10/10 [==============================] - 0s 158us/sample - loss: 0.0251\n",
      "Epoch 40/50\n",
      "10/10 [==============================] - 0s 157us/sample - loss: 0.0249\n",
      "Epoch 41/50\n",
      "10/10 [==============================] - 0s 183us/sample - loss: 0.0247\n",
      "Epoch 42/50\n",
      "10/10 [==============================] - 0s 151us/sample - loss: 0.0245\n",
      "Epoch 43/50\n",
      "10/10 [==============================] - 0s 129us/sample - loss: 0.0243\n",
      "Epoch 44/50\n",
      "10/10 [==============================] - 0s 158us/sample - loss: 0.0241\n",
      "Epoch 45/50\n",
      "10/10 [==============================] - 0s 155us/sample - loss: 0.0239\n",
      "Epoch 46/50\n",
      "10/10 [==============================] - 0s 205us/sample - loss: 0.0237\n",
      "Epoch 47/50\n",
      "10/10 [==============================] - 0s 147us/sample - loss: 0.0235\n",
      "Epoch 48/50\n",
      "10/10 [==============================] - 0s 179us/sample - loss: 0.0233\n",
      "Epoch 49/50\n",
      "10/10 [==============================] - 0s 155us/sample - loss: 0.0231\n",
      "Epoch 50/50\n",
      "10/10 [==============================] - 0s 188us/sample - loss: 0.0229\n",
      "[4.0017853]\n"
     ]
    }
   ],
   "source": [
    "prediction = house_model([7.0])\n",
    "print(prediction)"
   ]
  },
  {
   "cell_type": "code",
   "execution_count": 4,
   "metadata": {},
   "outputs": [],
   "source": [
    "# Now click the 'Submit Assignment' button above.\n",
    "# Once that is complete, please run the following two cells to save your work and close the notebook"
   ]
  },
  {
   "cell_type": "code",
   "execution_count": 4,
   "metadata": {},
   "outputs": [
    {
     "data": {
      "application/javascript": [
       "<!-- Save the notebook -->\n",
       "IPython.notebook.save_checkpoint();\n"
      ],
      "text/plain": [
       "<IPython.core.display.Javascript object>"
      ]
     },
     "metadata": {},
     "output_type": "display_data"
    }
   ],
   "source": [
    "%%javascript\n",
    "<!-- Save the notebook -->\n",
    "IPython.notebook.save_checkpoint();"
   ]
  },
  {
   "cell_type": "code",
   "execution_count": null,
   "metadata": {},
   "outputs": [
    {
     "data": {
      "application/javascript": [
       "IPython.notebook.session.delete();\n",
       "window.onbeforeunload = null\n",
       "setTimeout(function() { window.close(); }, 1000);\n"
      ],
      "text/plain": [
       "<IPython.core.display.Javascript object>"
      ]
     },
     "metadata": {},
     "output_type": "display_data"
    }
   ],
   "source": [
    "%%javascript\n",
    "IPython.notebook.session.delete();\n",
    "window.onbeforeunload = null\n",
    "setTimeout(function() { window.close(); }, 1000);"
   ]
  },
  {
   "cell_type": "code",
   "execution_count": null,
   "metadata": {},
   "outputs": [],
   "source": []
  }
 ],
 "metadata": {
  "coursera": {
   "course_slug": "introduction-tensorflow",
   "graded_item_id": "jRjw8",
   "launcher_item_id": "YoQKl"
  },
  "kernelspec": {
   "display_name": "Python 3",
   "language": "python",
   "name": "python3"
  },
  "language_info": {
   "codemirror_mode": {
    "name": "ipython",
    "version": 3
   },
   "file_extension": ".py",
   "mimetype": "text/x-python",
   "name": "python",
   "nbconvert_exporter": "python",
   "pygments_lexer": "ipython3",
   "version": "3.6.8"
  }
 },
 "nbformat": 4,
 "nbformat_minor": 2
}
